{
 "cells": [
  {
   "cell_type": "markdown",
   "id": "c33518a1-c93c-4c76-b04e-508db8dbe622",
   "metadata": {},
   "source": [
    "## Replace the origin CF file train_A, test_A folder with segmentation file"
   ]
  },
  {
   "cell_type": "code",
   "execution_count": null,
   "id": "cddb16b6-ecff-42f4-9197-ac96a9cab53e",
   "metadata": {},
   "outputs": [],
   "source": [
    "angel_index = 0"
   ]
  },
  {
   "cell_type": "code",
   "execution_count": null,
   "id": "4f43e30e-eafb-42d3-aeab-556c194990dc",
   "metadata": {},
   "outputs": [],
   "source": [
    "import os\n",
    "import shutil\n",
    "\n",
    "def replace_images(source_folder, target_folder):\n",
    "    # 遍历源文件夹中的所有文件\n",
    "    for filename in os.listdir(source_folder):\n",
    "        # 构建完整的文件路径\n",
    "        source_file = os.path.join(source_folder, filename)\n",
    "        target_file = os.path.join(target_folder, filename)\n",
    "        \n",
    "        # 检查文件是否是图像（这里简单地检查扩展名）\n",
    "        if filename.lower().endswith(('.png', '.jpg', '.jpeg', '.gif', '.bmp')):\n",
    "            # 检查目标文件夹中是否存在同名文件\n",
    "            if os.path.exists(target_file):\n",
    "                # 覆盖图像文件\n",
    "                shutil.copyfile(target_file, source_file)\n",
    "                print(f\"Replaced {filename} in {source_folder}\")\n",
    "            else:\n",
    "                print(f\"No matching file found for {filename} in {target_folder}\")\n",
    "\n",
    "# 设置源文件夹和目标文件夹的路径\n",
    "source_train_folder_path = f'./data/oct/angel_{angel_index}/train_A_Segmentation'\n",
    "source_test_folder_path = f'./data/oct/angel_{angel_index}/train_A_Segmentation'\n",
    "target_folder_path = './data/oct/training_set/train/CF_Segmentation'\n",
    "\n",
    "# 调用函数\n",
    "replace_images(source_train_folder_path, target_folder_path)\n",
    "replace_images(source_test_folder_path, target_folder_path)"
   ]
  },
  {
   "cell_type": "code",
   "execution_count": 7,
   "id": "16ae1bf4-a3fe-4d4d-abdb-c01d4d23b319",
   "metadata": {},
   "outputs": [
    {
     "name": "stdout",
     "output_type": "stream",
     "text": [
      "Skipped .ipynb_checkpoints, not an image file.\n"
     ]
    }
   ],
   "source": [
    "import cv2\n",
    "import os\n",
    "\n",
    "def resize_images(folder_path, output_size=(512, 512)):\n",
    "    # 遍历文件夹中的所有文件\n",
    "    for filename in os.listdir(folder_path):\n",
    "        # 构建完整的文件路径\n",
    "        file_path = os.path.join(folder_path, filename)\n",
    "        \n",
    "        # 检查文件是否是图像（这里简单地检查扩展名）\n",
    "        if filename.lower().endswith(('.png', '.jpg', '.jpeg', '.gif', '.bmp')):\n",
    "            # 使用OpenCV读取图像\n",
    "            image = cv2.imread(file_path)\n",
    "            \n",
    "            if image is not None:\n",
    "                # 缩放图像到512x512大小\n",
    "                resized_image = cv2.resize(image, output_size, interpolation=cv2.INTER_AREA)\n",
    "                \n",
    "                # 构建输出文件的路径\n",
    "                output_file_path = os.path.join(folder_path, filename)\n",
    "                \n",
    "                # 保存缩放后的图像\n",
    "                cv2.imwrite(output_file_path, resized_image)\n",
    "                #print(f\"Resized and saved {filename} to {output_file_path}\")\n",
    "            else:\n",
    "                print(f\"Failed to read {filename}. It may not be a valid image file.\")\n",
    "        else:\n",
    "            print(f\"Skipped {filename}, not an image file.\")\n",
    "\n",
    "# 设置文件夹的路径\n",
    "train_folder_path = f'./data/oct/angel_{angel_index}/train_A_Segmentation'\n",
    "test_folder_path = f'./data/oct/angel_{angel_index}/test_A_Segmentation'\n",
    "# 调用函数\n",
    "resize_images(train_folder_path)\n",
    "resize_images(test_folder_path)"
   ]
  },
  {
   "cell_type": "code",
   "execution_count": null,
   "id": "57fc7abf-998b-4317-8389-b57061254183",
   "metadata": {},
   "outputs": [],
   "source": []
  }
 ],
 "metadata": {
  "kernelspec": {
   "display_name": "Python 3 (ipykernel)",
   "language": "python",
   "name": "python3"
  },
  "language_info": {
   "codemirror_mode": {
    "name": "ipython",
    "version": 3
   },
   "file_extension": ".py",
   "mimetype": "text/x-python",
   "name": "python",
   "nbconvert_exporter": "python",
   "pygments_lexer": "ipython3",
   "version": "3.10.8"
  }
 },
 "nbformat": 4,
 "nbformat_minor": 5
}

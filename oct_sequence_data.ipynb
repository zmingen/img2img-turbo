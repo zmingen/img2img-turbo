{
 "cells": [
  {
   "cell_type": "code",
   "execution_count": 3,
   "id": "46e662ba-019d-4c29-bbfc-2dde9e1aa4b5",
   "metadata": {},
   "outputs": [
    {
     "name": "stdout",
     "output_type": "stream",
     "text": [
      "子文件夹 1 的 train_prompts.json 和 test_prompts.json 已生成。\n",
      "子文件夹 2 的 train_prompts.json 和 test_prompts.json 已生成。\n",
      "子文件夹 3 的 train_prompts.json 和 test_prompts.json 已生成。\n",
      "子文件夹 4 的 train_prompts.json 和 test_prompts.json 已生成。\n",
      "子文件夹 5 的 train_prompts.json 和 test_prompts.json 已生成。\n",
      "所有 JSON 文件已生成！\n"
     ]
    }
   ],
   "source": [
    "import os\n",
    "import json\n",
    "from pathlib import Path\n",
    "\n",
    "# 定义输出数据的主文件夹路径\n",
    "output_folder = Path('./data/oct/')\n",
    "\n",
    "# 遍历每个子文件夹（0, 1, 2, 3, 4, 5）\n",
    "for i in range(1, 6):\n",
    "    subfolder = output_folder / f'sequence_angel_{i}'\n",
    "\n",
    "    # 获取 train_CF 和 test_CF 文件夹路径\n",
    "    train_cf_folder = subfolder / 'train_A'\n",
    "    test_cf_folder = subfolder / 'test_A'\n",
    "\n",
    "    # 为 train_prompts.json 生成文件内容\n",
    "    train_prompts = {}\n",
    "    for image_path in train_cf_folder.glob(\"*.jpg\"):\n",
    "        image_name = image_path.name  # 仅获取文件名\n",
    "        train_prompts[image_name] = \"generate OCT images rotated 30 degrees clockwise\"\n",
    "\n",
    "    # 将 train_prompts 写入 train_prompts.json\n",
    "    train_prompts_path = subfolder / 'train_prompts.json'\n",
    "    with open(train_prompts_path, 'w') as f:\n",
    "        json.dump(train_prompts, f, indent=2)\n",
    "    \n",
    "    # 为 test_prompts.json 生成文件内容\n",
    "    test_prompts = {}\n",
    "    for image_path in test_cf_folder.glob(\"*.jpg\"):\n",
    "        image_name = image_path.name  # 仅获取文件名\n",
    "        test_prompts[image_name] = \"generate OCT images rotated 30 degrees clockwise\"\n",
    "        \n",
    "    # 将 test_prompts 写入 test_prompts.json\n",
    "    test_prompts_path = subfolder / 'test_prompts.json'\n",
    "    with open(test_prompts_path, 'w') as f:\n",
    "        json.dump(test_prompts, f, indent=2)\n",
    "\n",
    "    print(f\"子文件夹 {i} 的 train_prompts.json 和 test_prompts.json 已生成。\")\n",
    "\n",
    "print(\"所有 JSON 文件已生成！\")"
   ]
  },
  {
   "cell_type": "code",
   "execution_count": null,
   "id": "44fe5fa6-04a4-413f-81f8-c99bc53d1d44",
   "metadata": {},
   "outputs": [],
   "source": []
  }
 ],
 "metadata": {
  "kernelspec": {
   "display_name": "Python 3 (ipykernel)",
   "language": "python",
   "name": "python3"
  },
  "language_info": {
   "codemirror_mode": {
    "name": "ipython",
    "version": 3
   },
   "file_extension": ".py",
   "mimetype": "text/x-python",
   "name": "python",
   "nbconvert_exporter": "python",
   "pygments_lexer": "ipython3",
   "version": "3.10.8"
  }
 },
 "nbformat": 4,
 "nbformat_minor": 5
}

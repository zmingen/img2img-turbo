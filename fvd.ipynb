{
 "cells": [
  {
   "cell_type": "code",
   "execution_count": null,
   "id": "7213b058-6e12-45fa-a7b6-4f40757db63e",
   "metadata": {},
   "outputs": [],
   "source": [
    "import numpy as np\n",
    "import tensorflow as tf\n",
    "import tensorflow_hub as hub\n",
    "from scipy.linalg import sqrtm\n",
    "import os\n",
    "from glob import glob\n",
    "\n",
    "# Load the I3D model from TensorFlow Hub\n",
    "i3d_model = hub.load(\"https://tfhub.dev/deepmind/i3d-kinetics-400/1\")\n",
    "\n",
    "def calculate_fvd(mu1, sigma1, mu2, sigma2):\n",
    "    diff = mu1 - mu2\n",
    "    covmean, _ = sqrtm(sigma1 @ sigma2, disp=False)\n",
    "    if np.iscomplexobj(covmean):\n",
    "        covmean = covmean.real\n",
    "    return np.sum(diff ** 2) + np.trace(sigma1 + sigma2 - 2 * covmean)\n",
    "\n",
    "def load_images_as_video(folder_path, num_frames=16):\n",
    "    img_paths = sorted(glob(os.path.join(folder_path, '*.jpg')))\n",
    "    video = []\n",
    "    for img_path in img_paths[:num_frames]:  # Take only the first `num_frames` images\n",
    "        img = tf.image.decode_jpeg(tf.io.read_file(img_path), channels=3)\n",
    "        img = tf.image.resize(img, (224, 224))  # Resize to match I3D input size\n",
    "        video.append(img)\n",
    "    video = tf.stack(video)  # Stack frames to shape (num_frames, height, width, channels)\n",
    "    video = tf.expand_dims(video, axis=0)  # Add batch dimension\n",
    "    return video\n",
    "\n",
    "def extract_features(folder, num_frames=16):\n",
    "    features = []\n",
    "    for patient_folder in sorted(os.listdir(folder)):\n",
    "        patient_path = os.path.join(folder, patient_folder)\n",
    "        video = load_images_as_video(patient_path, num_frames=num_frames)\n",
    "        feature_vector = i3d_model(video)\n",
    "        features.append(feature_vector.numpy().flatten())\n",
    "    return np.array(features)\n",
    "\n",
    "# Extract features from each folder\n",
    "grounding_features = extract_features('path/to/grounding')\n",
    "generation_features = extract_features('path/to/generation')\n",
    "\n",
    "# Calculate statistics\n",
    "mu_grounding, sigma_grounding = grounding_features.mean(axis=0), np.cov(grounding_features, rowvar=False)\n",
    "mu_generation, sigma_generation = generation_features.mean(axis=0), np.cov(generation_features, rowvar=False)\n",
    "\n",
    "# Calculate FVD\n",
    "fvd = calculate_fvd(mu_grounding, sigma_grounding, mu_generation, sigma_generation)\n",
    "print(f\"Frechet Video Distance: {fvd}\")\n"
   ]
  }
 ],
 "metadata": {
  "kernelspec": {
   "display_name": "Python 3 (ipykernel)",
   "language": "python",
   "name": "python3"
  },
  "language_info": {
   "codemirror_mode": {
    "name": "ipython",
    "version": 3
   },
   "file_extension": ".py",
   "mimetype": "text/x-python",
   "name": "python",
   "nbconvert_exporter": "python",
   "pygments_lexer": "ipython3",
   "version": "3.10.8"
  }
 },
 "nbformat": 4,
 "nbformat_minor": 5
}
